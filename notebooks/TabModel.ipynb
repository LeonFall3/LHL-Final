{
 "cells": [
  {
   "cell_type": "markdown",
   "metadata": {},
   "source": [
    "tabular "
   ]
  },
  {
   "cell_type": "code",
   "execution_count": 45,
   "metadata": {},
   "outputs": [],
   "source": [
    "import pandas as pd"
   ]
  },
  {
   "cell_type": "code",
   "execution_count": 46,
   "metadata": {},
   "outputs": [],
   "source": [
    "def general_data_clearing(df):\n",
    "    \"\"\"#+\n",
    "    This function performs data cleaning and preprocessing on a given DataFrame.#+\n",
    "#+\n",
    "    Parameters:#+\n",
    "    df (pandas.DataFrame): The input DataFrame containing the data.#+\n",
    "#+\n",
    "    Returns:#+\n",
    "    pandas.DataFrame: The cleaned and preprocessed DataFrame.#+\n",
    "#+\n",
    "    The function performs the following steps:#+\n",
    "    1. Drops rows with missing values from the DataFrame.#+\n",
    "    2. Splits image paths into separate columns for easier access to corresponding image files.#+\n",
    "    3. Replaces spaces in column names with underscores.#+\n",
    "    4. Returns the cleaned and preprocessed DataFrame.#+\n",
    "    \"\"\"\n",
    "    df.dropna(inplace=True)\n",
    "\n",
    "    # spilting image paths into separate columns so I can find the corresponding image file easily\n",
    "    df = path_spilting(df, 'image file path','full')\n",
    "    df = path_spilting(df, 'cropped image file path','cropped')\n",
    "    df = path_spilting(df, 'ROI mask file path','mask')\n",
    "\n",
    "    # replacing spaces in column names to underscores\n",
    "    df.columns = df.columns.str.replace(' ', '_')\n",
    "\n",
    "    df['pathology'] = df['pathology'].replace('BENIGN_WITHOUT_CALLBACK', 'BENIGN')\n",
    "\n",
    "    return df\n",
    "\n",
    "\n",
    "def path_spilting(df, col_name,image_type):\n",
    "    new = df[col_name].str.split('/',n =3,expand=True)\n",
    "    df[f'image_folder_{image_type}']=new[2]\n",
    "    if image_type == 'cropped':\n",
    "        df[f'image_name_{image_type}']=new[3]\n",
    "        df[f'image_name_{image_type}'] = df[f'image_name_{image_type}'].str.replace(r'.dcm\\n', '')\n",
    "\n",
    "    df.drop(columns=[col_name], inplace=True)\n",
    "    return df"
   ]
  },
  {
   "cell_type": "code",
   "execution_count": 47,
   "metadata": {},
   "outputs": [
    {
     "data": {
      "text/plain": [
       "Index(['patient_id', 'breast density', 'left or right breast', 'image view',\n",
       "       'abnormality id', 'abnormality type', 'calc type', 'calc distribution',\n",
       "       'assessment', 'pathology', 'subtlety', 'image file path',\n",
       "       'cropped image file path', 'ROI mask file path'],\n",
       "      dtype='object')"
      ]
     },
     "execution_count": 47,
     "metadata": {},
     "output_type": "execute_result"
    }
   ],
   "source": [
    "calc_df = pd.read_csv('data\\csv\\calc_case_description.csv')\n",
    "calc_df.columns"
   ]
  },
  {
   "cell_type": "code",
   "execution_count": 48,
   "metadata": {},
   "outputs": [
    {
     "data": {
      "text/html": [
       "<div>\n",
       "<style scoped>\n",
       "    .dataframe tbody tr th:only-of-type {\n",
       "        vertical-align: middle;\n",
       "    }\n",
       "\n",
       "    .dataframe tbody tr th {\n",
       "        vertical-align: top;\n",
       "    }\n",
       "\n",
       "    .dataframe thead th {\n",
       "        text-align: right;\n",
       "    }\n",
       "</style>\n",
       "<table border=\"1\" class=\"dataframe\">\n",
       "  <thead>\n",
       "    <tr style=\"text-align: right;\">\n",
       "      <th></th>\n",
       "      <th>patient_id</th>\n",
       "      <th>breast_density</th>\n",
       "      <th>left_or_right_breast</th>\n",
       "      <th>image_view</th>\n",
       "      <th>abnormality_id</th>\n",
       "      <th>abnormality_type</th>\n",
       "      <th>calc_type</th>\n",
       "      <th>calc_distribution</th>\n",
       "      <th>assessment</th>\n",
       "      <th>pathology</th>\n",
       "      <th>subtlety</th>\n",
       "      <th>image_folder_full</th>\n",
       "      <th>image_folder_cropped</th>\n",
       "      <th>image_name_cropped</th>\n",
       "      <th>image_folder_mask</th>\n",
       "    </tr>\n",
       "  </thead>\n",
       "  <tbody>\n",
       "    <tr>\n",
       "      <th>0</th>\n",
       "      <td>P_00038</td>\n",
       "      <td>2</td>\n",
       "      <td>LEFT</td>\n",
       "      <td>CC</td>\n",
       "      <td>1</td>\n",
       "      <td>calcification</td>\n",
       "      <td>PUNCTATE-PLEOMORPHIC</td>\n",
       "      <td>CLUSTERED</td>\n",
       "      <td>4</td>\n",
       "      <td>BENIGN</td>\n",
       "      <td>2</td>\n",
       "      <td>1.3.6.1.4.1.9590.100.1.2.374115997511889073021...</td>\n",
       "      <td>1.3.6.1.4.1.9590.100.1.2.419081637812053404913...</td>\n",
       "      <td>000001.dcm\\n</td>\n",
       "      <td>1.3.6.1.4.1.9590.100.1.2.419081637812053404913...</td>\n",
       "    </tr>\n",
       "    <tr>\n",
       "      <th>1</th>\n",
       "      <td>P_00038</td>\n",
       "      <td>2</td>\n",
       "      <td>LEFT</td>\n",
       "      <td>MLO</td>\n",
       "      <td>1</td>\n",
       "      <td>calcification</td>\n",
       "      <td>PUNCTATE-PLEOMORPHIC</td>\n",
       "      <td>CLUSTERED</td>\n",
       "      <td>4</td>\n",
       "      <td>BENIGN</td>\n",
       "      <td>2</td>\n",
       "      <td>1.3.6.1.4.1.9590.100.1.2.174390361112646747718...</td>\n",
       "      <td>1.3.6.1.4.1.9590.100.1.2.188613955710170417803...</td>\n",
       "      <td>000001.dcm\\n</td>\n",
       "      <td>1.3.6.1.4.1.9590.100.1.2.188613955710170417803...</td>\n",
       "    </tr>\n",
       "    <tr>\n",
       "      <th>14</th>\n",
       "      <td>P_00100</td>\n",
       "      <td>4</td>\n",
       "      <td>RIGHT</td>\n",
       "      <td>CC</td>\n",
       "      <td>1</td>\n",
       "      <td>calcification</td>\n",
       "      <td>PLEOMORPHIC</td>\n",
       "      <td>CLUSTERED</td>\n",
       "      <td>4</td>\n",
       "      <td>BENIGN</td>\n",
       "      <td>4</td>\n",
       "      <td>1.3.6.1.4.1.9590.100.1.2.153667468610757963111...</td>\n",
       "      <td>1.3.6.1.4.1.9590.100.1.2.416175242512972515029...</td>\n",
       "      <td>000001.dcm\\n</td>\n",
       "      <td>1.3.6.1.4.1.9590.100.1.2.416175242512972515029...</td>\n",
       "    </tr>\n",
       "    <tr>\n",
       "      <th>15</th>\n",
       "      <td>P_00100</td>\n",
       "      <td>4</td>\n",
       "      <td>RIGHT</td>\n",
       "      <td>MLO</td>\n",
       "      <td>1</td>\n",
       "      <td>calcification</td>\n",
       "      <td>PLEOMORPHIC</td>\n",
       "      <td>CLUSTERED</td>\n",
       "      <td>4</td>\n",
       "      <td>BENIGN</td>\n",
       "      <td>4</td>\n",
       "      <td>1.3.6.1.4.1.9590.100.1.2.159953246125132978053...</td>\n",
       "      <td>1.3.6.1.4.1.9590.100.1.2.304205501811264755442...</td>\n",
       "      <td>000001.dcm\\n</td>\n",
       "      <td>1.3.6.1.4.1.9590.100.1.2.304205501811264755442...</td>\n",
       "    </tr>\n",
       "    <tr>\n",
       "      <th>16</th>\n",
       "      <td>P_00127</td>\n",
       "      <td>2</td>\n",
       "      <td>RIGHT</td>\n",
       "      <td>CC</td>\n",
       "      <td>1</td>\n",
       "      <td>calcification</td>\n",
       "      <td>PLEOMORPHIC</td>\n",
       "      <td>CLUSTERED</td>\n",
       "      <td>4</td>\n",
       "      <td>MALIGNANT</td>\n",
       "      <td>3</td>\n",
       "      <td>1.3.6.1.4.1.9590.100.1.2.613475814104326682401...</td>\n",
       "      <td>1.3.6.1.4.1.9590.100.1.2.284207981147845672484...</td>\n",
       "      <td>000001.dcm\\n</td>\n",
       "      <td>1.3.6.1.4.1.9590.100.1.2.284207981147845672484...</td>\n",
       "    </tr>\n",
       "  </tbody>\n",
       "</table>\n",
       "</div>"
      ],
      "text/plain": [
       "   patient_id  breast_density left_or_right_breast image_view  abnormality_id  \\\n",
       "0     P_00038               2                 LEFT         CC               1   \n",
       "1     P_00038               2                 LEFT        MLO               1   \n",
       "14    P_00100               4                RIGHT         CC               1   \n",
       "15    P_00100               4                RIGHT        MLO               1   \n",
       "16    P_00127               2                RIGHT         CC               1   \n",
       "\n",
       "   abnormality_type             calc_type calc_distribution  assessment  \\\n",
       "0     calcification  PUNCTATE-PLEOMORPHIC         CLUSTERED           4   \n",
       "1     calcification  PUNCTATE-PLEOMORPHIC         CLUSTERED           4   \n",
       "14    calcification           PLEOMORPHIC         CLUSTERED           4   \n",
       "15    calcification           PLEOMORPHIC         CLUSTERED           4   \n",
       "16    calcification           PLEOMORPHIC         CLUSTERED           4   \n",
       "\n",
       "    pathology  subtlety                                  image_folder_full  \\\n",
       "0      BENIGN         2  1.3.6.1.4.1.9590.100.1.2.374115997511889073021...   \n",
       "1      BENIGN         2  1.3.6.1.4.1.9590.100.1.2.174390361112646747718...   \n",
       "14     BENIGN         4  1.3.6.1.4.1.9590.100.1.2.153667468610757963111...   \n",
       "15     BENIGN         4  1.3.6.1.4.1.9590.100.1.2.159953246125132978053...   \n",
       "16  MALIGNANT         3  1.3.6.1.4.1.9590.100.1.2.613475814104326682401...   \n",
       "\n",
       "                                 image_folder_cropped image_name_cropped  \\\n",
       "0   1.3.6.1.4.1.9590.100.1.2.419081637812053404913...       000001.dcm\\n   \n",
       "1   1.3.6.1.4.1.9590.100.1.2.188613955710170417803...       000001.dcm\\n   \n",
       "14  1.3.6.1.4.1.9590.100.1.2.416175242512972515029...       000001.dcm\\n   \n",
       "15  1.3.6.1.4.1.9590.100.1.2.304205501811264755442...       000001.dcm\\n   \n",
       "16  1.3.6.1.4.1.9590.100.1.2.284207981147845672484...       000001.dcm\\n   \n",
       "\n",
       "                                    image_folder_mask  \n",
       "0   1.3.6.1.4.1.9590.100.1.2.419081637812053404913...  \n",
       "1   1.3.6.1.4.1.9590.100.1.2.188613955710170417803...  \n",
       "14  1.3.6.1.4.1.9590.100.1.2.416175242512972515029...  \n",
       "15  1.3.6.1.4.1.9590.100.1.2.304205501811264755442...  \n",
       "16  1.3.6.1.4.1.9590.100.1.2.284207981147845672484...  "
      ]
     },
     "execution_count": 48,
     "metadata": {},
     "output_type": "execute_result"
    }
   ],
   "source": [
    "calc_df = pd.read_csv('data\\csv\\calc_case_description.csv')\n",
    "df = general_data_clearing(calc_df)\n",
    "\n",
    "df.head()"
   ]
  },
  {
   "cell_type": "code",
   "execution_count": 49,
   "metadata": {},
   "outputs": [
    {
     "data": {
      "text/plain": [
       "pathology\n",
       "BENIGN       739\n",
       "MALIGNANT    670\n",
       "Name: count, dtype: int64"
      ]
     },
     "execution_count": 49,
     "metadata": {},
     "output_type": "execute_result"
    }
   ],
   "source": [
    "df['pathology'].value_counts()"
   ]
  },
  {
   "cell_type": "code",
   "execution_count": 52,
   "metadata": {},
   "outputs": [],
   "source": [
    "df = df.drop(columns=\"patient_id\")"
   ]
  },
  {
   "cell_type": "code",
   "execution_count": 53,
   "metadata": {},
   "outputs": [],
   "source": [
    "df.to_pickle('data/df.pkl')"
   ]
  }
 ],
 "metadata": {
  "kernelspec": {
   "display_name": "Python 3",
   "language": "python",
   "name": "python3"
  },
  "language_info": {
   "codemirror_mode": {
    "name": "ipython",
    "version": 3
   },
   "file_extension": ".py",
   "mimetype": "text/x-python",
   "name": "python",
   "nbconvert_exporter": "python",
   "pygments_lexer": "ipython3",
   "version": "3.11.10"
  }
 },
 "nbformat": 4,
 "nbformat_minor": 2
}
